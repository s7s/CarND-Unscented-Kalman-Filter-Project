{
 "cells": [
  {
   "cell_type": "code",
   "execution_count": null,
   "metadata": {},
   "outputs": [],
   "source": [
    "import numpy as np\n",
    "import matplotlib.pyplot as plt\n",
    "import csv"
   ]
  },
  {
   "cell_type": "code",
   "execution_count": null,
   "metadata": {},
   "outputs": [],
   "source": [
    "radar_95=7.815\n",
    "NIS_file = open('build/NIS_radar.txt', 'r')\n",
    "reader = csv.reader(NIS_file)\n",
    "allRows = [float(row[0]) for row in reader]\n",
    "plt.figure(figsize=(15,10))\n",
    "plt.plot(allRows)\n",
    "plt.plot(radar_95*np.ones(len(allRows)) )\n",
    "plt.title('Radar_NIS')\n",
    "plt.savefig('Radar_NIS.jpg', bbox_inches='tight') \n",
    "plt.show()"
   ]
  },
  {
   "cell_type": "code",
   "execution_count": null,
   "metadata": {},
   "outputs": [],
   "source": [
    "lidar_95=5.991\n",
    "NIS_file = open('build/NIS_lidar.txt', 'r')\n",
    "reader = csv.reader(NIS_file)\n",
    "allRows = [float(row[0]) for row in reader]\n",
    "plt.figure(figsize=(15,10))\n",
    "plt.plot(allRows)\n",
    "plt.plot(lidar_95*np.ones(len(allRows)) )\n",
    "plt.title('Lidar_NIS')\n",
    "plt.savefig('Lidar_NIS.jpg', bbox_inches='tight') \n",
    "plt.show()"
   ]
  },
  {
   "cell_type": "code",
   "execution_count": null,
   "metadata": {},
   "outputs": [],
   "source": []
  }
 ],
 "metadata": {
  "kernelspec": {
   "display_name": "Python 3",
   "language": "python",
   "name": "python3"
  },
  "language_info": {
   "codemirror_mode": {
    "name": "ipython",
    "version": 3
   },
   "file_extension": ".py",
   "mimetype": "text/x-python",
   "name": "python",
   "nbconvert_exporter": "python",
   "pygments_lexer": "ipython3",
   "version": "3.5.2"
  },
  "widgets": {
   "state": {},
   "version": "1.1.2"
  }
 },
 "nbformat": 4,
 "nbformat_minor": 2
}
